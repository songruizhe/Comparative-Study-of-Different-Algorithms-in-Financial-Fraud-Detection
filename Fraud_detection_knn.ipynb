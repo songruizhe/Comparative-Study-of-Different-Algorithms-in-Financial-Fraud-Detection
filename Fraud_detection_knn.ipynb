{
 "cells": [
  {
   "cell_type": "code",
   "execution_count": 67,
   "metadata": {},
   "outputs": [],
   "source": [
    "import math\n",
    "import time\n",
    "import numpy as np\n",
    "import pandas as pd\n",
    "import scipy.sparse as sp\n",
    "import matplotlib.pyplot as plt\n",
    "import matplotlib.cm as cm\n",
    "from sklearn.preprocessing import StandardScaler\n",
    "from numpy.linalg import norm\n",
    "from collections import Counter, defaultdict\n",
    "from scipy.sparse import csr_matrix\n",
    "from sklearn.model_selection import train_test_split\n",
    "from sklearn.neighbors import KNeighborsClassifier\n",
    "from sklearn.preprocessing import StandardScaler\n",
    "from sklearn.metrics import f1_score\n",
    "%matplotlib inline"
   ]
  },
  {
   "cell_type": "code",
   "execution_count": 10,
   "metadata": {},
   "outputs": [],
   "source": [
    "df = pd.read_csv(\n",
    "    filepath_or_buffer='data.csv',\n",
    "    sep=',')\n",
    "\n",
    "vals = df.iloc[:,:].values"
   ]
  },
  {
   "cell_type": "code",
   "execution_count": 11,
   "metadata": {},
   "outputs": [
    {
     "data": {
      "text/html": [
       "<div>\n",
       "<style scoped>\n",
       "    .dataframe tbody tr th:only-of-type {\n",
       "        vertical-align: middle;\n",
       "    }\n",
       "\n",
       "    .dataframe tbody tr th {\n",
       "        vertical-align: top;\n",
       "    }\n",
       "\n",
       "    .dataframe thead th {\n",
       "        text-align: right;\n",
       "    }\n",
       "</style>\n",
       "<table border=\"1\" class=\"dataframe\">\n",
       "  <thead>\n",
       "    <tr style=\"text-align: right;\">\n",
       "      <th></th>\n",
       "      <th>step</th>\n",
       "      <th>type</th>\n",
       "      <th>amount</th>\n",
       "      <th>nameOrig</th>\n",
       "      <th>oldbalanceOrg</th>\n",
       "      <th>newbalanceOrig</th>\n",
       "      <th>nameDest</th>\n",
       "      <th>oldbalanceDest</th>\n",
       "      <th>newbalanceDest</th>\n",
       "      <th>isFraud</th>\n",
       "      <th>isFlaggedFraud</th>\n",
       "    </tr>\n",
       "  </thead>\n",
       "  <tbody>\n",
       "    <tr>\n",
       "      <th>0</th>\n",
       "      <td>1</td>\n",
       "      <td>PAYMENT</td>\n",
       "      <td>9839.64</td>\n",
       "      <td>C1231006815</td>\n",
       "      <td>170136.0</td>\n",
       "      <td>160296.36</td>\n",
       "      <td>M1979787155</td>\n",
       "      <td>0.0</td>\n",
       "      <td>0.0</td>\n",
       "      <td>0</td>\n",
       "      <td>0</td>\n",
       "    </tr>\n",
       "    <tr>\n",
       "      <th>1</th>\n",
       "      <td>1</td>\n",
       "      <td>PAYMENT</td>\n",
       "      <td>1864.28</td>\n",
       "      <td>C1666544295</td>\n",
       "      <td>21249.0</td>\n",
       "      <td>19384.72</td>\n",
       "      <td>M2044282225</td>\n",
       "      <td>0.0</td>\n",
       "      <td>0.0</td>\n",
       "      <td>0</td>\n",
       "      <td>0</td>\n",
       "    </tr>\n",
       "    <tr>\n",
       "      <th>2</th>\n",
       "      <td>1</td>\n",
       "      <td>TRANSFER</td>\n",
       "      <td>181.00</td>\n",
       "      <td>C1305486145</td>\n",
       "      <td>181.0</td>\n",
       "      <td>0.00</td>\n",
       "      <td>C553264065</td>\n",
       "      <td>0.0</td>\n",
       "      <td>0.0</td>\n",
       "      <td>1</td>\n",
       "      <td>0</td>\n",
       "    </tr>\n",
       "    <tr>\n",
       "      <th>3</th>\n",
       "      <td>1</td>\n",
       "      <td>CASH_OUT</td>\n",
       "      <td>181.00</td>\n",
       "      <td>C840083671</td>\n",
       "      <td>181.0</td>\n",
       "      <td>0.00</td>\n",
       "      <td>C38997010</td>\n",
       "      <td>21182.0</td>\n",
       "      <td>0.0</td>\n",
       "      <td>1</td>\n",
       "      <td>0</td>\n",
       "    </tr>\n",
       "    <tr>\n",
       "      <th>4</th>\n",
       "      <td>1</td>\n",
       "      <td>PAYMENT</td>\n",
       "      <td>11668.14</td>\n",
       "      <td>C2048537720</td>\n",
       "      <td>41554.0</td>\n",
       "      <td>29885.86</td>\n",
       "      <td>M1230701703</td>\n",
       "      <td>0.0</td>\n",
       "      <td>0.0</td>\n",
       "      <td>0</td>\n",
       "      <td>0</td>\n",
       "    </tr>\n",
       "  </tbody>\n",
       "</table>\n",
       "</div>"
      ],
      "text/plain": [
       "   step      type    amount     nameOrig  oldbalanceOrg  newbalanceOrig  \\\n",
       "0     1   PAYMENT   9839.64  C1231006815       170136.0       160296.36   \n",
       "1     1   PAYMENT   1864.28  C1666544295        21249.0        19384.72   \n",
       "2     1  TRANSFER    181.00  C1305486145          181.0            0.00   \n",
       "3     1  CASH_OUT    181.00   C840083671          181.0            0.00   \n",
       "4     1   PAYMENT  11668.14  C2048537720        41554.0        29885.86   \n",
       "\n",
       "      nameDest  oldbalanceDest  newbalanceDest  isFraud  isFlaggedFraud  \n",
       "0  M1979787155             0.0             0.0        0               0  \n",
       "1  M2044282225             0.0             0.0        0               0  \n",
       "2   C553264065             0.0             0.0        1               0  \n",
       "3    C38997010         21182.0             0.0        1               0  \n",
       "4  M1230701703             0.0             0.0        0               0  "
      ]
     },
     "execution_count": 11,
     "metadata": {},
     "output_type": "execute_result"
    }
   ],
   "source": [
    "df.head()"
   ]
  },
  {
   "cell_type": "code",
   "execution_count": 12,
   "metadata": {},
   "outputs": [
    {
     "data": {
      "text/plain": [
       "69988820"
      ]
     },
     "execution_count": 12,
     "metadata": {},
     "output_type": "execute_result"
    }
   ],
   "source": [
    "df.size"
   ]
  },
  {
   "cell_type": "code",
   "execution_count": 13,
   "metadata": {},
   "outputs": [
    {
     "name": "stdout",
     "output_type": "stream",
     "text": [
      "Number of each type\n",
      "Counter({'CASH_OUT': 2237500, 'PAYMENT': 2151495, 'CASH_IN': 1399284, 'TRANSFER': 532909, 'DEBIT': 41432})\n",
      "Total number of Fraud\n",
      "Counter({0: 6354407, 1: 8213})\n",
      "Number of fraud under PAYMENT\n",
      "Counter({0: 2151495})\n",
      "Number of fraud under TRANSFER\n",
      "Counter({0: 528812, 1: 4097})\n",
      "Number of fraud under CASH_OUT\n",
      "Counter({0: 2233384, 1: 4116})\n",
      "Number of fraud under DEBIT\n",
      "Counter({0: 41432})\n",
      "Number of fraud under CASH_IN\n",
      "Counter({0: 1399284})\n"
     ]
    }
   ],
   "source": [
    "print('Number of each type')\n",
    "print(Counter(df['type']))\n",
    "print('Total number of Fraud')\n",
    "print(Counter(df['isFraud']))\n",
    "print('Number of fraud under PAYMENT')\n",
    "print(Counter(df[df['type'] == 'PAYMENT']['isFraud']))\n",
    "print('Number of fraud under TRANSFER')\n",
    "print(Counter(df[df['type'] == 'TRANSFER']['isFraud']))\n",
    "print('Number of fraud under CASH_OUT')\n",
    "print(Counter(df[df['type'] == 'CASH_OUT']['isFraud']))\n",
    "print('Number of fraud under DEBIT')\n",
    "print(Counter(df[df['type'] == 'DEBIT']['isFraud']))\n",
    "print('Number of fraud under CASH_IN')\n",
    "print(Counter(df[df['type'] == 'CASH_IN']['isFraud']))"
   ]
  },
  {
   "cell_type": "markdown",
   "metadata": {},
   "source": [
    "### it can be seen that all fraud action comes from TRANSFER and CASH_OUT, so only actions from these two categories are considered"
   ]
  },
  {
   "cell_type": "code",
   "execution_count": 14,
   "metadata": {},
   "outputs": [
    {
     "data": {
      "image/png": "[encoded data removed]",
      "text/plain": [
       "<Figure size 432x288 with 1 Axes>"
      ]
     },
     "metadata": {},
     "output_type": "display_data"
    }
   ],
   "source": [
    "\n",
    "objects = ('TRANSFER', 'CASH_OUT')\n",
    "y_pos = np.arange(len(objects))\n",
    "performance = [532909,2237500]\n",
    "\n",
    "plt.bar(y_pos, performance, align='center', alpha=0.5)\n",
    "plt.xticks(y_pos, objects)\n",
    "plt.ylabel('Number')\n",
    "plt.title('TRANSFER vs CASH_OUT')\n",
    "\n",
    "plt.show()"
   ]
  },
  {
   "cell_type": "code",
   "execution_count": 15,
   "metadata": {},
   "outputs": [
    {
     "data": {
      "image/png": "[encoded data removed]",
      "text/plain": [
       "<Figure size 432x288 with 1 Axes>"
      ]
     },
     "metadata": {},
     "output_type": "display_data"
    }
   ],
   "source": [
    "objects = ('Non fraud', 'fraud')\n",
    "y_pos = np.arange(len(objects))\n",
    "performance = [2762196,8213]\n",
    "\n",
    "plt.bar(y_pos, performance, align='center', alpha=0.5)\n",
    "plt.xticks(y_pos, objects)\n",
    "plt.ylabel('Number')\n",
    "plt.title('Non fraud vs fraud')\n",
    "\n",
    "plt.show()"
   ]
  },
  {
   "cell_type": "code",
   "execution_count": 16,
   "metadata": {},
   "outputs": [
    {
     "data": {
      "image/png": "[encoded data removed]",
      "text/plain": [
       "<Figure size 720x720 with 2 Axes>"
      ]
     },
     "metadata": {},
     "output_type": "display_data"
    }
   ],
   "source": [
    "fig = plt.figure(figsize=(10, 10))\n",
    "ax1 = fig.add_subplot(111)\n",
    "cmap = cm.get_cmap('Blues', 30)\n",
    "cax = ax1.imshow(df.corr(), interpolation = \"nearest\", cmap = cmap)\n",
    "ax1.grid(True)\n",
    "plt.title(\"Correlation of different attributes\")\n",
    "labels = df.columns.tolist()\n",
    "ax1.set_xticklabels(labels, rotation=45)\n",
    "ax1.set_yticklabels(labels)\n",
    "fig.colorbar(cax)\n",
    "plt.show()"
   ]
  },
  {
   "cell_type": "markdown",
   "metadata": {},
   "source": [
    "### From the correlation heatmap, it can be seen that amoung, oldbalanceOrg, nnewbalanceOrig, oldbalanceDest and newbalanceDest have greater correlation to the fraud parameter"
   ]
  },
  {
   "cell_type": "markdown",
   "metadata": {},
   "source": [
    "### Find the most suitable K value and attributes set"
   ]
  },
  {
   "cell_type": "code",
   "execution_count": 17,
   "metadata": {},
   "outputs": [],
   "source": [
    "data = []\n",
    "for i in vals[1:]:\n",
    "    if 'C' in i[3] and 'C' in i[6] and (i[1] == 'TRANSFER' or i[1] == 'CASH_OUT'):\n",
    "        data.append(i)"
   ]
  },
  {
   "cell_type": "code",
   "execution_count": null,
   "metadata": {},
   "outputs": [],
   "source": [
    "def knn(data,k):\n",
    "    X = []\n",
    "    y = []\n",
    "    for i in data:\n",
    "        tmp = []\n",
    "        tmp.append(i[2])\n",
    "        tmp.append(i[4])\n",
    "        tmp.append(i[5])\n",
    "        tmp.append(i[7])\n",
    "        tmp.append(i[8])\n",
    "        X.append(tmp)\n",
    "        y.append(int(i[9]) or int(i[10]))\n",
    "        X_train, X_test, y_train, y_test = train_test_split(X, y, test_size=0.8, random_state=0)\n",
    "        \n",
    "        scaler = StandardScaler()\n",
    "        scaler.fit(X_train)\n",
    "        X_train = scaler.transform(X_train)\n",
    "        X_test = scaler.transform(X_test)\n",
    "        classifier = KNeighborsClassifier(n_neighbors=k)\n",
    "        classifier.fit(X_train, y_train)\n",
    "        \n",
    "        y_pred = classifier.predict(X_test)\n",
    "        \n",
    "        f1 = f1_score(y_test, y_pred, average='micro')\n",
    "        fpr, tpr, thresholds = metrics.roc_curve(y_test, y_pred)\n",
    "        auc = metrics.auc(fpr, tpr)\n",
    "        return [f1,auc]"
   ]
  },
  {
   "cell_type": "code",
   "execution_count": null,
   "metadata": {},
   "outputs": [],
   "source": [
    "f1_score_list = []\n",
    "for i in range(1,16):\n",
    "    f1_score_list.append(knn(data,i))"
   ]
  },
  {
   "cell_type": "code",
   "execution_count": 68,
   "metadata": {},
   "outputs": [
    {
     "data": {
      "image/png": "[encoded data removed]",
      "text/plain": [
       "<Figure size 432x288 with 1 Axes>"
      ]
     },
     "metadata": {},
     "output_type": "display_data"
    }
   ],
   "source": [
    "plt.plot([1,2,3,4,5,6,7,8,9,10,11,12,13,14,15], f1_score_list)\n",
    "plt.ylabel('F1')\n",
    "plt.xlabel('K')\n",
    "plt.title('F1 score for different K value')\n",
    "plt.show()"
   ]
  },
  {
   "cell_type": "markdown",
   "metadata": {},
   "source": [
    "### a. using all attributes for knn model"
   ]
  },
  {
   "cell_type": "code",
   "execution_count": 18,
   "metadata": {},
   "outputs": [],
   "source": [
    "X = []\n",
    "y = []\n",
    "for i in data:\n",
    "    tmp = []\n",
    "    tmp.append(i[2])\n",
    "    tmp.append(i[4])\n",
    "    tmp.append(i[5])\n",
    "    tmp.append(i[7])\n",
    "    tmp.append(i[8])\n",
    "    X.append(tmp)\n",
    "    y.append(int(i[9]) or int(i[10]))"
   ]
  },
  {
   "cell_type": "code",
   "execution_count": 19,
   "metadata": {},
   "outputs": [],
   "source": [
    "X_train, X_test, y_train, y_test = train_test_split(X, y, test_size=0.8, random_state=0)"
   ]
  },
  {
   "cell_type": "code",
   "execution_count": 20,
   "metadata": {},
   "outputs": [
    {
     "data": {
      "text/plain": [
       "KNeighborsClassifier(algorithm='auto', leaf_size=30, metric='minkowski',\n",
       "           metric_params=None, n_jobs=None, n_neighbors=5, p=2,\n",
       "           weights='uniform')"
      ]
     },
     "execution_count": 20,
     "metadata": {},
     "output_type": "execute_result"
    }
   ],
   "source": [
    "scaler = StandardScaler()\n",
    "scaler.fit(X_train)\n",
    "\n",
    "X_train = scaler.transform(X_train)\n",
    "X_test = scaler.transform(X_test)\n",
    "\n",
    "classifier = KNeighborsClassifier(n_neighbors=5)\n",
    "classifier.fit(X_train, y_train)"
   ]
  },
  {
   "cell_type": "code",
   "execution_count": 22,
   "metadata": {},
   "outputs": [],
   "source": [
    "y_pred = classifier.predict(X_test)"
   ]
  },
  {
   "cell_type": "markdown",
   "metadata": {},
   "source": [
    "### F1 score, auc and cross validation"
   ]
  },
  {
   "cell_type": "code",
   "execution_count": 52,
   "metadata": {},
   "outputs": [
    {
     "name": "stdout",
     "output_type": "stream",
     "text": [
      "f1 using macro is  0.8978706263372438\n"
     ]
    }
   ],
   "source": [
    "from sklearn.metrics import f1_score\n",
    "f1_macro = f1_score(y_test, y_pred, average='macro')\n",
    "print('f1 using macro is ' , f1_macro)"
   ]
  },
  {
   "cell_type": "code",
   "execution_count": 53,
   "metadata": {},
   "outputs": [
    {
     "name": "stdout",
     "output_type": "stream",
     "text": [
      "f1 using micro is  0.9988990799195787\n"
     ]
    }
   ],
   "source": [
    "f1_micro = f1_score(y_test, y_pred, average='micro')\n",
    "print('f1 using micro is ' , f1_micro)"
   ]
  },
  {
   "cell_type": "code",
   "execution_count": 54,
   "metadata": {},
   "outputs": [
    {
     "name": "stdout",
     "output_type": "stream",
     "text": [
      "f1 using weighted is  0.998846465468737\n"
     ]
    }
   ],
   "source": [
    "f1_wei = f1_score(y_test, y_pred, average='weighted')\n",
    "print('f1 using weighted is ' , f1_wei)"
   ]
  },
  {
   "cell_type": "code",
   "execution_count": 55,
   "metadata": {},
   "outputs": [
    {
     "name": "stdout",
     "output_type": "stream",
     "text": [
      "auc is  0.8631785296814942\n"
     ]
    }
   ],
   "source": [
    "from sklearn import metrics\n",
    "fpr, tpr, thresholds = metrics.roc_curve(y_test, y_pred)\n",
    "auc = metrics.auc(fpr, tpr)\n",
    "print('auc is ' , auc)"
   ]
  },
  {
   "cell_type": "code",
   "execution_count": 72,
   "metadata": {},
   "outputs": [
    {
     "name": "stdout",
     "output_type": "stream",
     "text": [
      "              precision    recall  f1-score   support\n",
      "\n",
      "           0       1.00      1.00      1.00   2209765\n",
      "           1       0.88      0.73      0.80      6563\n",
      "\n",
      "   micro avg       1.00      1.00      1.00   2216328\n",
      "   macro avg       0.94      0.86      0.90   2216328\n",
      "weighted avg       1.00      1.00      1.00   2216328\n",
      "\n"
     ]
    }
   ],
   "source": [
    "from sklearn.metrics import classification_report\n",
    "target_names = ['0','1']\n",
    "print(classification_report(y_test, y_pred, target_names=target_names))"
   ]
  },
  {
   "cell_type": "markdown",
   "metadata": {},
   "source": [
    "### b. using only oldbalanceOrg and oldbalanceDest for knn model"
   ]
  },
  {
   "cell_type": "code",
   "execution_count": 26,
   "metadata": {},
   "outputs": [],
   "source": [
    "data1 = []\n",
    "for i in vals[1:]:\n",
    "    if 'C' in i[3] and 'C' in i[6] and (i[1] == 'TRANSFER' or i[1] == 'CASH_OUT'):\n",
    "        data1.append(i)\n",
    "        \n",
    "X1 = []\n",
    "y1 = []\n",
    "for i in data1:\n",
    "    tmp = []\n",
    "    tmp.append(i[2])\n",
    "    tmp.append(i[4])\n",
    "    tmp.append(i[7])\n",
    "    X1.append(tmp)\n",
    "    y1.append(int(i[9]) or int(i[10]))\n",
    "    \n",
    "X_train1, X_test1, y_train1, y_test1 = train_test_split(X1, y1, test_size=0.8, random_state=0)"
   ]
  },
  {
   "cell_type": "code",
   "execution_count": 27,
   "metadata": {},
   "outputs": [
    {
     "data": {
      "text/plain": [
       "KNeighborsClassifier(algorithm='auto', leaf_size=30, metric='minkowski',\n",
       "           metric_params=None, n_jobs=None, n_neighbors=5, p=2,\n",
       "           weights='uniform')"
      ]
     },
     "execution_count": 27,
     "metadata": {},
     "output_type": "execute_result"
    }
   ],
   "source": [
    "scaler = StandardScaler()\n",
    "scaler.fit(X_train1)\n",
    "\n",
    "X_train1 = scaler.transform(X_train1)\n",
    "X_test1 = scaler.transform(X_test1)\n",
    "\n",
    "classifier = KNeighborsClassifier(n_neighbors=5)\n",
    "classifier.fit(X_train1, y_train1)"
   ]
  },
  {
   "cell_type": "code",
   "execution_count": 28,
   "metadata": {},
   "outputs": [],
   "source": [
    "y_pred1 = classifier.predict(X_test1)"
   ]
  },
  {
   "cell_type": "markdown",
   "metadata": {},
   "source": [
    "### F1 score, auc and cross validation"
   ]
  },
  {
   "cell_type": "code",
   "execution_count": 56,
   "metadata": {},
   "outputs": [
    {
     "name": "stdout",
     "output_type": "stream",
     "text": [
      "f1 using macro is  0.8481104688504542\n"
     ]
    }
   ],
   "source": [
    "f1_macro1 = f1_score(y_test1, y_pred1, average='macro')\n",
    "print('f1 using macro is ' , f1_macro1)"
   ]
  },
  {
   "cell_type": "code",
   "execution_count": 59,
   "metadata": {},
   "outputs": [
    {
     "name": "stdout",
     "output_type": "stream",
     "text": [
      "f1 using micro is  0.9983066585812208\n"
     ]
    }
   ],
   "source": [
    "f1_micro1 = f1_score(y_test1, y_pred1, average='micro')\n",
    "print('f1 using micro is ' , f1_micro1)"
   ]
  },
  {
   "cell_type": "code",
   "execution_count": 60,
   "metadata": {},
   "outputs": [
    {
     "name": "stdout",
     "output_type": "stream",
     "text": [
      "f1 using weighted is  0.9982564327846667\n"
     ]
    }
   ],
   "source": [
    "f1_wei1 = f1_score(y_test1, y_pred1, average='weighted')\n",
    "print('f1 using weighted is ' , f1_wei1)"
   ]
  },
  {
   "cell_type": "code",
   "execution_count": 61,
   "metadata": {},
   "outputs": [
    {
     "name": "stdout",
     "output_type": "stream",
     "text": [
      "auc is  0.8286241994056812\n"
     ]
    }
   ],
   "source": [
    "fpr1, tpr1, thresholds1 = metrics.roc_curve(y_test1, y_pred1)\n",
    "auc1 = metrics.auc(fpr1, tpr1)\n",
    "print('auc is ' , auc1)"
   ]
  },
  {
   "cell_type": "code",
   "execution_count": 32,
   "metadata": {},
   "outputs": [],
   "source": [
    "from sklearn.model_selection import cross_val_score, cross_validate\n",
    "score = ['f1_micro']\n",
    "scores = cross_validate(classifier, X_train1, y_train1, scoring=score, cv=5, return_train_score=True)"
   ]
  },
  {
   "cell_type": "code",
   "execution_count": 33,
   "metadata": {},
   "outputs": [
    {
     "data": {
      "text/plain": [
       "{'fit_time': array([0.54815221, 0.61263585, 0.66653991, 0.59838629, 0.82111096]),\n",
       " 'score_time': array([1.16774774, 1.19263792, 1.23605609, 1.328053  , 1.13271022]),\n",
       " 'test_f1_micro': array([0.99826741, 0.99831252, 0.99811399, 0.99833057, 0.99810497]),\n",
       " 'train_f1_micro': array([0.99870506, 0.99869153, 0.99871183, 0.9986825 , 0.9986983 ])}"
      ]
     },
     "execution_count": 33,
     "metadata": {},
     "output_type": "execute_result"
    }
   ],
   "source": [
    "scores"
   ]
  },
  {
   "cell_type": "code",
   "execution_count": 73,
   "metadata": {},
   "outputs": [
    {
     "name": "stdout",
     "output_type": "stream",
     "text": [
      "              precision    recall  f1-score   support\n",
      "\n",
      "           0       1.00      1.00      1.00   2209765\n",
      "           1       0.74      0.66      0.70      6563\n",
      "\n",
      "   micro avg       1.00      1.00      1.00   2216328\n",
      "   macro avg       0.87      0.83      0.85   2216328\n",
      "weighted avg       1.00      1.00      1.00   2216328\n",
      "\n"
     ]
    }
   ],
   "source": [
    "target_names = ['0','1']\n",
    "print(classification_report(y_test1, y_pred1, target_names=target_names))"
   ]
  },
  {
   "cell_type": "markdown",
   "metadata": {},
   "source": [
    "### c. using only newbalanceOrg and newbalanceDest for knn model"
   ]
  },
  {
   "cell_type": "code",
   "execution_count": 35,
   "metadata": {},
   "outputs": [],
   "source": [
    "data2 = []\n",
    "for i in vals[1:]:\n",
    "    if 'C' in i[3] and 'C' in i[6] and (i[1] == 'TRANSFER' or i[1] == 'CASH_OUT'):\n",
    "        data2.append(i)\n",
    "        \n",
    "X2 = []\n",
    "y2 = []\n",
    "for i in data1:\n",
    "    tmp = []\n",
    "    tmp.append(i[2])\n",
    "    tmp.append(i[5])\n",
    "    tmp.append(i[8])\n",
    "    X2.append(tmp)\n",
    "    y2.append(int(i[9]) or int(i[10]))\n",
    "    \n",
    "X_train2, X_test2, y_train2, y_test2 = train_test_split(X2, y2, test_size=0.8, random_state=0)"
   ]
  },
  {
   "cell_type": "code",
   "execution_count": 36,
   "metadata": {},
   "outputs": [
    {
     "data": {
      "text/plain": [
       "KNeighborsClassifier(algorithm='auto', leaf_size=30, metric='minkowski',\n",
       "           metric_params=None, n_jobs=None, n_neighbors=5, p=2,\n",
       "           weights='uniform')"
      ]
     },
     "execution_count": 36,
     "metadata": {},
     "output_type": "execute_result"
    }
   ],
   "source": [
    "scaler = StandardScaler()\n",
    "scaler.fit(X_train2)\n",
    "\n",
    "X_train2 = scaler.transform(X_train2)\n",
    "X_test2 = scaler.transform(X_test2)\n",
    "\n",
    "classifier = KNeighborsClassifier(n_neighbors=5)\n",
    "classifier.fit(X_train2, y_train2)"
   ]
  },
  {
   "cell_type": "code",
   "execution_count": 37,
   "metadata": {},
   "outputs": [],
   "source": [
    "y_pred2 = classifier.predict(X_test2)"
   ]
  },
  {
   "cell_type": "markdown",
   "metadata": {},
   "source": [
    "### F1 score, auc and cross validation"
   ]
  },
  {
   "cell_type": "code",
   "execution_count": 66,
   "metadata": {},
   "outputs": [
    {
     "name": "stdout",
     "output_type": "stream",
     "text": [
      "f1 using macro is  0.6845240599676657\n"
     ]
    }
   ],
   "source": [
    "f1_macro2 = f1_score(y_test2, y_pred2, average='macro')\n",
    "print('f1 using macro is ' , f1_macro2)"
   ]
  },
  {
   "cell_type": "code",
   "execution_count": 65,
   "metadata": {},
   "outputs": [
    {
     "name": "stdout",
     "output_type": "stream",
     "text": [
      "f1 using micro is  0.9974773589468707\n"
     ]
    }
   ],
   "source": [
    "f1_micro2 = f1_score(y_test2, y_pred2, average='micro')\n",
    "print('f1 using micro is ' , f1_micro2)"
   ]
  },
  {
   "cell_type": "code",
   "execution_count": 63,
   "metadata": {},
   "outputs": [
    {
     "name": "stdout",
     "output_type": "stream",
     "text": [
      "f1 using weighted is  0.9968752554958896\n"
     ]
    }
   ],
   "source": [
    "f1_wei2 = f1_score(y_test2, y_pred2, average='weighted')\n",
    "print('f1 using weighted is ' , f1_wei2)"
   ]
  },
  {
   "cell_type": "code",
   "execution_count": 62,
   "metadata": {},
   "outputs": [
    {
     "name": "stdout",
     "output_type": "stream",
     "text": [
      "auc is  0.6250955478152838\n"
     ]
    }
   ],
   "source": [
    "fpr2, tpr2, thresholds2 = metrics.roc_curve(y_test2, y_pred2)\n",
    "auc2 = metrics.auc(fpr2, tpr2)\n",
    "print('auc is ' , auc2)"
   ]
  },
  {
   "cell_type": "code",
   "execution_count": 41,
   "metadata": {},
   "outputs": [],
   "source": [
    "score1 = ['f1_micro']\n",
    "scores1 = cross_validate(classifier, X_train2, y_train2, scoring=score1, cv=5, return_train_score=True)"
   ]
  },
  {
   "cell_type": "code",
   "execution_count": 42,
   "metadata": {},
   "outputs": [
    {
     "data": {
      "text/plain": [
       "{'fit_time': array([263.88533616, 272.19624996, 282.69404483, 259.88544202,\n",
       "        279.80830193]),\n",
       " 'score_time': array([2.6450417 , 2.93485618, 2.86685801, 2.93998218, 1.87689209]),\n",
       " 'test_f1_micro': array([0.99734698, 0.99731086, 0.99741915, 0.99749134, 0.99743719]),\n",
       " 'train_f1_micro': array([0.99761542, 0.99762896, 0.99763798, 0.99759512, 0.9976267 ])}"
      ]
     },
     "execution_count": 42,
     "metadata": {},
     "output_type": "execute_result"
    }
   ],
   "source": [
    "scores1"
   ]
  },
  {
   "cell_type": "code",
   "execution_count": 74,
   "metadata": {},
   "outputs": [
    {
     "name": "stdout",
     "output_type": "stream",
     "text": [
      "              precision    recall  f1-score   support\n",
      "\n",
      "           0       1.00      1.00      1.00   2209765\n",
      "           1       0.71      0.25      0.37      6563\n",
      "\n",
      "   micro avg       1.00      1.00      1.00   2216328\n",
      "   macro avg       0.85      0.63      0.68   2216328\n",
      "weighted avg       1.00      1.00      1.00   2216328\n",
      "\n"
     ]
    }
   ],
   "source": [
    "target_names = ['0','1']\n",
    "print(classification_report(y_test2, y_pred2, target_names=target_names))"
   ]
  },
  {
   "cell_type": "code",
   "execution_count": 69,
   "metadata": {},
   "outputs": [
    {
     "data": {
      "image/png": "[encoded data removed]",
      "text/plain": [
       "<Figure size 432x288 with 1 Axes>"
      ]
     },
     "metadata": {},
     "output_type": "display_data"
    }
   ],
   "source": [
    "plt.plot(['all','only old','only new'], [0.9988,0.9983,0.9974])\n",
    "plt.ylabel('F1')\n",
    "plt.xlabel('Attributes set')\n",
    "plt.title('F1 score for different K value')\n",
    "plt.show()"
   ]
  },
  {
   "cell_type": "code",
   "execution_count": 70,
   "metadata": {},
   "outputs": [
    {
     "data": {
      "image/png": "[encoded data removed]",
      "text/plain": [
       "<Figure size 432x288 with 1 Axes>"
      ]
     },
     "metadata": {},
     "output_type": "display_data"
    }
   ],
   "source": [
    "plt.plot(['all','only old','only new'], [0.8631,0.8286,0.6250])\n",
    "plt.ylabel('AUC')\n",
    "plt.xlabel('Attributes set')\n",
    "plt.title('AUC score for different K value')\n",
    "plt.show()"
   ]
  },
  {
   "cell_type": "code",
   "execution_count": null,
   "metadata": {},
   "outputs": [],
   "source": []
  }
 ],
 "metadata": {
  "kernelspec": {
   "display_name": "Python 3",
   "language": "python",
   "name": "python3"
  },
  "language_info": {
   "codemirror_mode": {
    "name": "ipython",
    "version": 3
   },
   "file_extension": ".py",
   "mimetype": "text/x-python",
   "name": "python",
   "nbconvert_exporter": "python",
   "pygments_lexer": "ipython3",
   "version": "3.6.5"
  }
 },
 "nbformat": 4,
 "nbformat_minor": 2
}
